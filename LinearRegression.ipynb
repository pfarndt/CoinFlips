{
 "cells": [
  {
   "cell_type": "code",
   "execution_count": 112,
   "metadata": {},
   "outputs": [],
   "source": [
    "using PyPlot\n",
    "using Statistics\n",
    "using Optim"
   ]
  },
  {
   "cell_type": "code",
   "execution_count": 132,
   "metadata": {},
   "outputs": [
    {
     "data": {
      "text/plain": [
       "1.0:0.2:10.0"
      ]
     },
     "execution_count": 132,
     "metadata": {},
     "output_type": "execute_result"
    }
   ],
   "source": [
    "t = 1:0.2:10"
   ]
  },
  {
   "cell_type": "code",
   "execution_count": 193,
   "metadata": {},
   "outputs": [
    {
     "data": {
      "text/plain": [
       "46-element Array{Float64,1}:\n",
       "  2.784902797301479\n",
       "  5.98258081625924\n",
       "  4.676530921244562\n",
       "  6.2968069156609205\n",
       "  6.59798211763175\n",
       "  9.058737721541277\n",
       "  7.804847347197226\n",
       "  8.174297672717982\n",
       "  8.497146272546644\n",
       "  9.09149749310574\n",
       " 10.803982394143897\n",
       " 12.084691345656173\n",
       " 11.37592680242307\n",
       "  ⋮\n",
       " 25.137471572704413\n",
       " 26.26839207964284\n",
       " 26.961117933883422\n",
       " 26.01321523060851\n",
       " 26.248310903731404\n",
       " 27.11352090208551\n",
       " 27.45844054229926\n",
       " 28.272370861935855\n",
       " 27.597097197378957\n",
       " 29.25627555010351\n",
       " 33.03338580649507\n",
       " 32.41802148340797"
      ]
     },
     "execution_count": 193,
     "metadata": {},
     "output_type": "execute_result"
    }
   ],
   "source": [
    "y = map(ti -> 3 * ti + 1 + 1 * randn(), t)"
   ]
  },
  {
   "cell_type": "code",
   "execution_count": 194,
   "metadata": {},
   "outputs": [
    {
     "data": {
      "image/png": "[encoded data removed]",
      "text/plain": [
       "Figure(PyObject <Figure size 640x480 with 1 Axes>)"
      ]
     },
     "metadata": {},
     "output_type": "display_data"
    },
    {
     "data": {
      "text/plain": [
       "PyObject <matplotlib.collections.PathCollection object at 0x7ff98e2433d0>"
      ]
     },
     "execution_count": 194,
     "metadata": {},
     "output_type": "execute_result"
    }
   ],
   "source": [
    "scatter(t, y)"
   ]
  },
  {
   "cell_type": "code",
   "execution_count": null,
   "metadata": {},
   "outputs": [],
   "source": []
  },
  {
   "cell_type": "code",
   "execution_count": 195,
   "metadata": {},
   "outputs": [
    {
     "data": {
      "text/plain": [
       "45-element Array{Float64,1}:\n",
       " 15.98839009478881\n",
       " -6.530249475073393\n",
       "  8.101379972081785\n",
       "  1.5058760098541462\n",
       " 12.303778019547641\n",
       " -6.26945187172025\n",
       "  1.8472516276037811\n",
       "  1.614242999143308\n",
       "  2.9717561027954837\n",
       "  8.562424505190782\n",
       "  6.403544757561374\n",
       " -3.5438227161655216\n",
       " -1.3085847586134924\n",
       "  ⋮\n",
       "  2.369335799100918\n",
       "  5.654602534692129\n",
       "  3.4636292712029206\n",
       " -4.73951351637454\n",
       "  1.1754783656144816\n",
       "  4.326049991770512\n",
       "  1.724598201068754\n",
       "  4.069651598182983\n",
       " -3.3763683227844683\n",
       "  8.295891763622793\n",
       " 18.885551281957696\n",
       " -3.07682161543551"
      ]
     },
     "execution_count": 195,
     "metadata": {},
     "output_type": "execute_result"
    }
   ],
   "source": [
    "v = [ (y[i]-y[i-1])/(t[i]-t[i-1]) for i in 2:length(t)]"
   ]
  },
  {
   "cell_type": "code",
   "execution_count": 196,
   "metadata": {},
   "outputs": [
    {
     "data": {
      "text/plain": [
       "3.292568742900721"
      ]
     },
     "execution_count": 196,
     "metadata": {},
     "output_type": "execute_result"
    }
   ],
   "source": [
    "mean(v)"
   ]
  },
  {
   "cell_type": "code",
   "execution_count": 197,
   "metadata": {},
   "outputs": [
    {
     "data": {
      "text/plain": [
       "6.589873324661466"
      ]
     },
     "execution_count": 197,
     "metadata": {},
     "output_type": "execute_result"
    }
   ],
   "source": [
    "std(v)"
   ]
  },
  {
   "cell_type": "code",
   "execution_count": null,
   "metadata": {},
   "outputs": [],
   "source": [
    "3.02 +/- 0.75"
   ]
  },
  {
   "cell_type": "code",
   "execution_count": null,
   "metadata": {},
   "outputs": [],
   "source": []
  },
  {
   "cell_type": "code",
   "execution_count": 179,
   "metadata": {},
   "outputs": [
    {
     "name": "stdout",
     "output_type": "stream",
     "text": [
      "search: \u001b[0m\u001b[1ms\u001b[22m\u001b[0m\u001b[1mt\u001b[22m\u001b[0m\u001b[1md\u001b[22m \u001b[0m\u001b[1ms\u001b[22m\u001b[0m\u001b[1mt\u001b[22m\u001b[0m\u001b[1md\u001b[22mm \u001b[0m\u001b[1ms\u001b[22m\u001b[0m\u001b[1mt\u001b[22m\u001b[0m\u001b[1md\u001b[22min \u001b[0m\u001b[1ms\u001b[22m\u001b[0m\u001b[1mt\u001b[22m\u001b[0m\u001b[1md\u001b[22mout \u001b[0m\u001b[1ms\u001b[22m\u001b[0m\u001b[1mt\u001b[22m\u001b[0m\u001b[1md\u001b[22merr \u001b[0m\u001b[1ms\u001b[22me\u001b[0m\u001b[1mt\u001b[22m\u001b[0m\u001b[1md\u001b[22miff \u001b[0m\u001b[1ms\u001b[22me\u001b[0m\u001b[1mt\u001b[22m\u001b[0m\u001b[1md\u001b[22miff! hi\u001b[0m\u001b[1ms\u001b[22m\u001b[0m\u001b[1mt\u001b[22m2\u001b[0m\u001b[1mD\u001b[22m \u001b[0m\u001b[1ms\u001b[22m\u001b[0m\u001b[1mt\u001b[22mri\u001b[0m\u001b[1md\u001b[22me \u001b[0m\u001b[1ms\u001b[22m\u001b[0m\u001b[1mt\u001b[22mri\u001b[0m\u001b[1md\u001b[22mes\n",
      "\n"
     ]
    },
    {
     "data": {
      "text/latex": [
       "\\begin{verbatim}\n",
       "std(itr; corrected::Bool=true, mean=nothing[, dims])\n",
       "\\end{verbatim}\n",
       "Compute the sample standard deviation of collection \\texttt{itr}.\n",
       "\n",
       "The algorithm returns an estimator of the generative distribution's standard deviation under the assumption that each entry of \\texttt{itr} is an IID drawn from that generative distribution. For arrays, this computation is equivalent to calculating \\texttt{sqrt(sum((itr .- mean(itr)).\\^{}2) / (length(itr) - 1))}. If \\texttt{corrected} is \\texttt{true}, then the sum is scaled with \\texttt{n-1}, whereas the sum is scaled with \\texttt{n} if \\texttt{corrected} is \\texttt{false} with \\texttt{n} the number of elements in \\texttt{itr}.\n",
       "\n",
       "A pre-computed \\texttt{mean} may be provided.\n",
       "\n",
       "If \\texttt{itr} is an \\texttt{AbstractArray}, \\texttt{dims} can be provided to compute the standard deviation over dimensions, and \\texttt{means} may contain means for each dimension of \\texttt{itr}.\n",
       "\n",
       "\\begin{quote}\n",
       "\\textbf{note}\n",
       "\n",
       "Note\n",
       "\n",
       "If array contains \\texttt{NaN} or \\href{@ref}{\\texttt{missing}} values, the result is also \\texttt{NaN} or \\texttt{missing} (\\texttt{missing} takes precedence if array contains both). Use the \\href{@ref}{\\texttt{skipmissing}} function to omit \\texttt{missing} entries and compute the standard deviation of non-missing values.\n",
       "\n",
       "\\end{quote}\n",
       "\\rule{\\textwidth}{1pt}\n",
       "\\begin{verbatim}\n",
       "std(x::AbstractArray, w::AbstractWeights, [dim]; mean=nothing, corrected=false)\n",
       "\\end{verbatim}\n",
       "Compute the standard deviation of a real-valued array \\texttt{x}, optionally over a dimension \\texttt{dim}. Observations in \\texttt{x} are weighted using weight vector \\texttt{w}. The uncorrected (when \\texttt{corrected=false}) sample standard deviation is defined as:\n",
       "\n",
       "$$\\sqrt{\\frac{1}{\\sum{w}} \\sum_{i=1}^n {w_i\\left({x_i - μ}\\right)^2 }}$$\n",
       "where $n$ is the length of the input and $μ$ is the mean. The unbiased estimate (when \\texttt{corrected=true}) of the population standard deviation is computed by replacing $\\frac{1}{\\sum{w}}$ with a factor dependent on the type of weights used:\n",
       "\n",
       "\\begin{itemize}\n",
       "\\item \\texttt{AnalyticWeights}: $\\frac{1}{\\sum w - \\sum {w^2} / \\sum w}$\n",
       "\n",
       "\n",
       "\\item \\texttt{FrequencyWeights}: $\\frac{1}{\\sum{w} - 1}$\n",
       "\n",
       "\n",
       "\\item \\texttt{ProbabilityWeights}: $\\frac{n}{(n - 1) \\sum w}$ where $n$ equals \\texttt{count(!iszero, w)}\n",
       "\n",
       "\n",
       "\\item \\texttt{Weights}: \\texttt{ArgumentError} (bias correction not supported)\n",
       "\n",
       "\\end{itemize}\n"
      ],
      "text/markdown": [
       "```\n",
       "std(itr; corrected::Bool=true, mean=nothing[, dims])\n",
       "```\n",
       "\n",
       "Compute the sample standard deviation of collection `itr`.\n",
       "\n",
       "The algorithm returns an estimator of the generative distribution's standard deviation under the assumption that each entry of `itr` is an IID drawn from that generative distribution. For arrays, this computation is equivalent to calculating `sqrt(sum((itr .- mean(itr)).^2) / (length(itr) - 1))`. If `corrected` is `true`, then the sum is scaled with `n-1`, whereas the sum is scaled with `n` if `corrected` is `false` with `n` the number of elements in `itr`.\n",
       "\n",
       "A pre-computed `mean` may be provided.\n",
       "\n",
       "If `itr` is an `AbstractArray`, `dims` can be provided to compute the standard deviation over dimensions, and `means` may contain means for each dimension of `itr`.\n",
       "\n",
       "!!! note\n",
       "    If array contains `NaN` or [`missing`](@ref) values, the result is also `NaN` or `missing` (`missing` takes precedence if array contains both). Use the [`skipmissing`](@ref) function to omit `missing` entries and compute the standard deviation of non-missing values.\n",
       "\n",
       "\n",
       "---\n",
       "\n",
       "```\n",
       "std(x::AbstractArray, w::AbstractWeights, [dim]; mean=nothing, corrected=false)\n",
       "```\n",
       "\n",
       "Compute the standard deviation of a real-valued array `x`, optionally over a dimension `dim`. Observations in `x` are weighted using weight vector `w`. The uncorrected (when `corrected=false`) sample standard deviation is defined as:\n",
       "\n",
       "$$\n",
       "\\sqrt{\\frac{1}{\\sum{w}} \\sum_{i=1}^n {w_i\\left({x_i - μ}\\right)^2 }}\n",
       "$$\n",
       "\n",
       "where $n$ is the length of the input and $μ$ is the mean. The unbiased estimate (when `corrected=true`) of the population standard deviation is computed by replacing $\\frac{1}{\\sum{w}}$ with a factor dependent on the type of weights used:\n",
       "\n",
       "  * `AnalyticWeights`: $\\frac{1}{\\sum w - \\sum {w^2} / \\sum w}$\n",
       "  * `FrequencyWeights`: $\\frac{1}{\\sum{w} - 1}$\n",
       "  * `ProbabilityWeights`: $\\frac{n}{(n - 1) \\sum w}$ where $n$ equals `count(!iszero, w)`\n",
       "  * `Weights`: `ArgumentError` (bias correction not supported)\n"
      ],
      "text/plain": [
       "\u001b[36m  std(itr; corrected::Bool=true, mean=nothing[, dims])\u001b[39m\n",
       "\n",
       "  Compute the sample standard deviation of collection \u001b[36mitr\u001b[39m.\n",
       "\n",
       "  The algorithm returns an estimator of the generative distribution's standard\n",
       "  deviation under the assumption that each entry of \u001b[36mitr\u001b[39m is an IID drawn from\n",
       "  that generative distribution. For arrays, this computation is equivalent to\n",
       "  calculating \u001b[36msqrt(sum((itr .- mean(itr)).^2) / (length(itr) - 1))\u001b[39m. If\n",
       "  \u001b[36mcorrected\u001b[39m is \u001b[36mtrue\u001b[39m, then the sum is scaled with \u001b[36mn-1\u001b[39m, whereas the sum is\n",
       "  scaled with \u001b[36mn\u001b[39m if \u001b[36mcorrected\u001b[39m is \u001b[36mfalse\u001b[39m with \u001b[36mn\u001b[39m the number of elements in \u001b[36mitr\u001b[39m.\n",
       "\n",
       "  A pre-computed \u001b[36mmean\u001b[39m may be provided.\n",
       "\n",
       "  If \u001b[36mitr\u001b[39m is an \u001b[36mAbstractArray\u001b[39m, \u001b[36mdims\u001b[39m can be provided to compute the standard\n",
       "  deviation over dimensions, and \u001b[36mmeans\u001b[39m may contain means for each dimension of\n",
       "  \u001b[36mitr\u001b[39m.\n",
       "\n",
       "\u001b[36m\u001b[1m  │ \u001b[22m\u001b[39m\u001b[36m\u001b[1mNote\u001b[22m\u001b[39m\n",
       "\u001b[36m\u001b[1m  │\u001b[22m\u001b[39m\n",
       "\u001b[36m\u001b[1m  │\u001b[22m\u001b[39m  If array contains \u001b[36mNaN\u001b[39m or \u001b[36mmissing\u001b[39m values, the result is also \u001b[36mNaN\u001b[39m or\n",
       "\u001b[36m\u001b[1m  │\u001b[22m\u001b[39m  \u001b[36mmissing\u001b[39m (\u001b[36mmissing\u001b[39m takes precedence if array contains both). Use the\n",
       "\u001b[36m\u001b[1m  │\u001b[22m\u001b[39m  \u001b[36mskipmissing\u001b[39m function to omit \u001b[36mmissing\u001b[39m entries and compute the\n",
       "\u001b[36m\u001b[1m  │\u001b[22m\u001b[39m  standard deviation of non-missing values.\n",
       "\n",
       "  ────────────────────────────────────────────────────────────────────────────\n",
       "\n",
       "\u001b[36m  std(x::AbstractArray, w::AbstractWeights, [dim]; mean=nothing, corrected=false)\u001b[39m\n",
       "\n",
       "  Compute the standard deviation of a real-valued array \u001b[36mx\u001b[39m, optionally over a\n",
       "  dimension \u001b[36mdim\u001b[39m. Observations in \u001b[36mx\u001b[39m are weighted using weight vector \u001b[36mw\u001b[39m. The\n",
       "  uncorrected (when \u001b[36mcorrected=false\u001b[39m) sample standard deviation is defined as:\n",
       "\n",
       "\u001b[35m\\sqrt{\\frac{1}{\\sum{w}} \\sum_{i=1}^n {w_i\\left({x_i - μ}\\right)^2 }}\u001b[39m\n",
       "\n",
       "  where \u001b[35mn\u001b[39m is the length of the input and \u001b[35mμ\u001b[39m is the mean. The unbiased estimate\n",
       "  (when \u001b[36mcorrected=true\u001b[39m) of the population standard deviation is computed by\n",
       "  replacing \u001b[35m\\frac{1}{\\sum{w}}\u001b[39m with a factor dependent on the type of weights\n",
       "  used:\n",
       "\n",
       "    •    \u001b[36mAnalyticWeights\u001b[39m: \u001b[35m\\frac{1}{\\sum w - \\sum {w^2} / \\sum w}\u001b[39m\n",
       "\n",
       "    •    \u001b[36mFrequencyWeights\u001b[39m: \u001b[35m\\frac{1}{\\sum{w} - 1}\u001b[39m\n",
       "\n",
       "    •    \u001b[36mProbabilityWeights\u001b[39m: \u001b[35m\\frac{n}{(n - 1) \\sum w}\u001b[39m where \u001b[35mn\u001b[39m equals\n",
       "        \u001b[36mcount(!iszero, w)\u001b[39m\n",
       "\n",
       "    •    \u001b[36mWeights\u001b[39m: \u001b[36mArgumentError\u001b[39m (bias correction not supported)"
      ]
     },
     "execution_count": 179,
     "metadata": {},
     "output_type": "execute_result"
    }
   ],
   "source": [
    "?std"
   ]
  },
  {
   "cell_type": "code",
   "execution_count": 170,
   "metadata": {},
   "outputs": [
    {
     "data": {
      "text/plain": [
       "sum_residuals_squared (generic function with 1 method)"
      ]
     },
     "execution_count": 170,
     "metadata": {},
     "output_type": "execute_result"
    }
   ],
   "source": [
    "function sum_residuals_squared(observed_data, model_parameter)\n",
    "    x = observed_data[1] # vector\n",
    "    y = observed_data[2] # vector\n",
    "    \n",
    "    m = model_parameter[1] # slope, number\n",
    "    n = model_parameter[2] # offset, number\n",
    "    \n",
    "    ym = map(x -> m * x +n, x) # vector\n",
    "    \n",
    "    sqrt(sum((y .- ym) .^ 2))\n",
    "end"
   ]
  },
  {
   "cell_type": "code",
   "execution_count": 174,
   "metadata": {},
   "outputs": [
    {
     "data": {
      "text/plain": [
       "2-element Array{AbstractArray{Float64,1},1}:\n",
       " 1.0:0.2:10.0\n",
       " [3.7901248951298667, 3.6616080841689342, 5.724566431570503, 5.008934351130017, 6.132903313802146, 7.1216386024985585, 5.9224001813739475, 7.176038011382015, 9.871017841081237, 9.954007033720487  …  23.387080045304963, 25.499068959556407, 26.74550582132148, 28.050987954892182, 26.802105459336726, 28.258703522038104, 30.449901895390262, 31.609368199131453, 32.245685449706656, 31.681125446643634]"
      ]
     },
     "execution_count": 174,
     "metadata": {},
     "output_type": "execute_result"
    }
   ],
   "source": [
    "observed_data = [t, y]"
   ]
  },
  {
   "cell_type": "code",
   "execution_count": 175,
   "metadata": {},
   "outputs": [
    {
     "data": {
      "text/plain": [
       " * Status: success\n",
       "\n",
       " * Candidate solution\n",
       "    Minimizer: [3.12e+00, 2.52e-01]\n",
       "    Minimum:   5.967764e+00\n",
       "\n",
       " * Found with\n",
       "    Algorithm:     Nelder-Mead\n",
       "    Initial Point: [1.00e+00, 0.00e+00]\n",
       "\n",
       " * Convergence measures\n",
       "    √(Σ(yᵢ-ȳ)²)/n ≤ 1.0e-08\n",
       "\n",
       " * Work counters\n",
       "    Seconds run:   0  (vs limit Inf)\n",
       "    Iterations:    46\n",
       "    f(x) calls:    89\n"
      ]
     },
     "execution_count": 175,
     "metadata": {},
     "output_type": "execute_result"
    }
   ],
   "source": [
    "res = optimize(p -> sum_residuals_squared(observed_data, p),  [1,0.0])"
   ]
  },
  {
   "cell_type": "code",
   "execution_count": 176,
   "metadata": {},
   "outputs": [
    {
     "data": {
      "image/png": "[encoded data removed]",
      "text/plain": [
       "Figure(PyObject <Figure size 640x480 with 1 Axes>)"
      ]
     },
     "metadata": {},
     "output_type": "display_data"
    },
    {
     "data": {
      "text/plain": [
       "1-element Array{PyCall.PyObject,1}:\n",
       " PyObject <matplotlib.lines.Line2D object at 0x7ff98c0b70d0>"
      ]
     },
     "execution_count": 176,
     "metadata": {},
     "output_type": "execute_result"
    }
   ],
   "source": [
    "m,n = Optim.minimizer(res)\n",
    "\n",
    "scatter(t, y)\n",
    "plot(t, map(t-> m*t+n, t), color = \"red\")"
   ]
  },
  {
   "cell_type": "code",
   "execution_count": null,
   "metadata": {},
   "outputs": [],
   "source": []
  },
  {
   "cell_type": "code",
   "execution_count": 99,
   "metadata": {},
   "outputs": [],
   "source": [
    "using Random"
   ]
  },
  {
   "cell_type": "code",
   "execution_count": null,
   "metadata": {},
   "outputs": [],
   "source": []
  },
  {
   "cell_type": "code",
   "execution_count": 198,
   "metadata": {},
   "outputs": [
    {
     "data": {
      "text/plain": [
       "slope1 (generic function with 1 method)"
      ]
     },
     "execution_count": 198,
     "metadata": {},
     "output_type": "execute_result"
    }
   ],
   "source": [
    "function slope1()\n",
    "    t = 1:1.0:10\n",
    "    y = map(ti -> 3 * ti +1 + 4*randn(), t)\n",
    "    \n",
    "    v = [(y[i]-y[i-1])/(t[i]-t[i-1]) for i in 2:length(y)]\n",
    "    mean(v)\n",
    "end"
   ]
  },
  {
   "cell_type": "code",
   "execution_count": 231,
   "metadata": {},
   "outputs": [
    {
     "data": {
      "text/plain": [
       "4.353598002788559"
      ]
     },
     "execution_count": 231,
     "metadata": {},
     "output_type": "execute_result"
    }
   ],
   "source": [
    "slope1()"
   ]
  },
  {
   "cell_type": "code",
   "execution_count": 247,
   "metadata": {},
   "outputs": [
    {
     "name": "stdout",
     "output_type": "stream",
     "text": [
      "(mean(vs), std(vs)) = (2.998024670022978, 0.6295062186440472)\n"
     ]
    }
   ],
   "source": [
    "Random.seed!(1234)\n",
    "vs = [slope1() for i in 1:10000]\n",
    "\n",
    "@show mean(vs), std(vs);"
   ]
  },
  {
   "cell_type": "code",
   "execution_count": 248,
   "metadata": {},
   "outputs": [
    {
     "data": {
      "text/plain": [
       "slope2 (generic function with 1 method)"
      ]
     },
     "execution_count": 248,
     "metadata": {},
     "output_type": "execute_result"
    }
   ],
   "source": [
    "function slope2()\n",
    "    t = 1:1.0:10\n",
    "    y = map(ti -> 3 * ti +1 + 4*randn(), t)\n",
    "    \n",
    "    observed_data = [t, y]\n",
    "    res = optimize(p -> sum_residuals_squared(observed_data, p),  [100.0,1.0])\n",
    "    m,s = Optim.minimizer(res)\n",
    "    m\n",
    "end"
   ]
  },
  {
   "cell_type": "code",
   "execution_count": 249,
   "metadata": {},
   "outputs": [
    {
     "name": "stdout",
     "output_type": "stream",
     "text": [
      "(mean(vs), std(vs)) = (3.0048218885588485, 0.44210310819240783)\n"
     ]
    }
   ],
   "source": [
    "Random.seed!(1234)\n",
    "vs = [slope2() for i in 1:10000]\n",
    "\n",
    "@show mean(vs), std(vs);"
   ]
  },
  {
   "cell_type": "code",
   "execution_count": null,
   "metadata": {},
   "outputs": [],
   "source": []
  }
 ],
 "metadata": {
  "kernelspec": {
   "display_name": "Julia 1.4.2",
   "language": "julia",
   "name": "julia-1.4"
  },
  "language_info": {
   "file_extension": ".jl",
   "mimetype": "application/julia",
   "name": "julia",
   "version": "1.4.2"
  }
 },
 "nbformat": 4,
 "nbformat_minor": 4
}
